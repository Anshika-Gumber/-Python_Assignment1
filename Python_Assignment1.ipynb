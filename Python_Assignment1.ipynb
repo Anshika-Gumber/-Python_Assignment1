{
  "nbformat": 4,
  "nbformat_minor": 0,
  "metadata": {
    "colab": {
      "provenance": []
    },
    "kernelspec": {
      "name": "python3",
      "display_name": "Python 3"
    },
    "language_info": {
      "name": "python"
    }
  },
  "cells": [
    {
      "cell_type": "markdown",
      "source": [
        "1. What is Python, and why is it popular?\n",
        "\n",
        "\n",
        "*   Python is a high-level and general purpose programming language known for its readability and ease of use.It's popular for web development, data science, machine learning, automation, and more.\n",
        "\n"
      ],
      "metadata": {
        "id": "4RTqW_5cQ4Pu"
      }
    },
    {
      "cell_type": "markdown",
      "source": [
        "2. What is an interpreter in Python?\n",
        "\n",
        "\n",
        "*   In Python, interpreter is a program that directly executes python code.\n"
      ],
      "metadata": {
        "id": "7genozbfrPFB"
      }
    },
    {
      "cell_type": "markdown",
      "source": [
        "3. What are pre-defined keywords in Python?\n",
        "\n",
        "\n",
        "* Pre-defined keywords in Python are some reserved words that have special meanings. These keywords are fundamental to python syntax.  \n",
        "\n"
      ],
      "metadata": {
        "id": "jO3Ac-t8r_yb"
      }
    },
    {
      "cell_type": "markdown",
      "source": [
        "4. Can keywords be used as variable names?\n",
        "\n",
        "\n",
        "*   No, keywords cannot be used as variable names in Python. Python keyords are reserved words that have special meanings and are integral to the syntax and structure of the language.\n",
        "\n"
      ],
      "metadata": {
        "id": "1lkqB69lPS2-"
      }
    },
    {
      "cell_type": "markdown",
      "source": [
        "5. What is mutability in Python?\n",
        "\n",
        "\n",
        "*   In Python, mutability refers to whether an object's state or value can be changed after it has been created.\n",
        "\n",
        "\n"
      ],
      "metadata": {
        "id": "FZlwBFvTQM9I"
      }
    },
    {
      "cell_type": "markdown",
      "source": [
        "6. Why are lists mutable, but tuples are immutable?\n",
        "\n",
        "\n",
        "*   Lists are mutable as after a list is created, its elements can be modified, added or removed. contents of a list can be changed.\n",
        "\n"
      ],
      "metadata": {
        "id": "6VnDpriZQ_Y8"
      }
    },
    {
      "cell_type": "markdown",
      "source": [
        "7. What is the difference between “==” and “is” operators in Python?\n",
        "\n",
        "\n",
        "*   ==(Equality Operator): This operator compares the value of two objects.It checks if the content or data stored in two objects is the same.\n",
        "\n",
        "\n",
        "*   is(Identity O[erator ): This operator compares the identity of two objects. It checks if two variables refer to the exact same object in memory.\n",
        "\n",
        "\n",
        "\n"
      ],
      "metadata": {
        "id": "CfIy1wLGUzEV"
      }
    },
    {
      "cell_type": "markdown",
      "source": [
        "8. What are logical operators in Python?\n",
        "\n",
        "\n",
        "*   Logical operators in Python are used to combine conditional statements and evaluate expressions based on their truth values(True or False). They are crutial for creating complex decision making logic within programs.Python provides three primary logical operators: and, or and not.\n",
        "\n"
      ],
      "metadata": {
        "id": "mKBtuJE1X208"
      }
    },
    {
      "cell_type": "markdown",
      "source": [
        "9. What is type casting in Python?\n",
        "\n",
        "\n",
        "\n",
        "*   Type casitng is the process of converting a value from one data type to another. This is a fundamental concept in programming, as it allows for flexibility in handling data and performing operators.\n",
        "\n"
      ],
      "metadata": {
        "id": "1f6B0t1ralJ5"
      }
    },
    {
      "cell_type": "markdown",
      "source": [
        "10. What is the difference between implicit and explicit type casting?\n",
        "\n",
        "\n",
        "*   Implicit type casting: This conversion is performed automatically by the python interpreter when operators involve different datatypes for eg., int to float.\n",
        "*   Explicit type casting: This conversion is performed explicitly by the programmer using built-in type conversion functions. For eg., float to an int.\n",
        "\n",
        "\n",
        "\n"
      ],
      "metadata": {
        "id": "zA12ZX9Pb60e"
      }
    },
    {
      "cell_type": "markdown",
      "source": [
        "11. What is the purpose of conditional statements in Python?\n",
        "\n",
        "\n",
        "*   The purpose is to control the flow of execution in a program based on whether certain conditions are true or false.\n",
        "They enable a program to make decisions and perform different actions depending on various scenarios or inputs.\n",
        "\n"
      ],
      "metadata": {
        "id": "Tuh6OXwNebFE"
      }
    },
    {
      "cell_type": "markdown",
      "source": [
        "12. How does the elif statement work?\n",
        "\n",
        "\n",
        "*   The elif statement is used in onjunction with an 'if' statement to handle multiple conditions.  \n",
        "\n",
        "*   Initial if check: The program first evaluates the condition within the 'if' statement. If this condition is true, the code block associated with if statement is executed.\n",
        "*   'elif' checks: If the initial condition is False, the program moves on to check the first elif condition.If it is 'True' the corresponding code block is executed and if it is 'False' the program proceeds to check the next elif condition, and so on.\n",
        "\n",
        "\n",
        "\n"
      ],
      "metadata": {
        "id": "NftFYVaafdxO"
      }
    },
    {
      "cell_type": "markdown",
      "source": [
        "13. What is the difference between for and while loops?\n",
        "\n",
        "\n",
        "*   for loops:\n",
        "\n",
        "1.   Purpose: Iterates over a sequence(like a list, tuple, range or string) or other iterable objects.\n",
        "2.   How it works: It iterates through each item in the sequence, executing the indented code block for each item.\n",
        "\n",
        "\n",
        "*   while loops:\n",
        "\n",
        "\n",
        "1. Purpose: Repeatedly execute a block of code as long as a specified condition remains true.\n",
        "2. How it works: It checks the condition before each iteration. If the condition is true, the code block is executed, and then the condition is checked again. The loop stops when the condition becomes false.  \n",
        "\n",
        "\n",
        "\n",
        "\n",
        "\n",
        "\n",
        "\n"
      ],
      "metadata": {
        "id": "oFt29RU7kLrN"
      }
    },
    {
      "cell_type": "markdown",
      "source": [
        "14. Describe a scenario where a while loop is more suitable than a for loop.\n",
        "\n",
        "\n",
        "*   Scenario: Guessing a secret number\n",
        "\n",
        "*   Imagine developing a program where the user has to guess a secret number between 1 and 100. we don't know how many attempts it will take for the user to guess correctly.\n",
        "\n",
        "\n",
        "*    Here's how a while loop would be used in this situation:\n",
        "In the context of a guessing game, a while loop is suitable because the number of guesses required is unknown beforehand and depends on the user's input. The loop continues as long as the user's guess is incorrect. A for loop, typically used when the number of iterations is known, would not be appropriate here.\n",
        "\n",
        "\n",
        "\n"
      ],
      "metadata": {
        "id": "O8YphljYoWNn"
      }
    },
    {
      "cell_type": "markdown",
      "source": [
        "# Practical Questions"
      ],
      "metadata": {
        "id": "lEPXxjHEp4nB"
      }
    },
    {
      "cell_type": "code",
      "source": [
        "# 1. Write a Python program to print \"Hello, World!\"\n",
        "print(\"Hello, World!\")"
      ],
      "metadata": {
        "colab": {
          "base_uri": "https://localhost:8080/"
        },
        "id": "4NvuoBAMqCa4",
        "outputId": "18d8dffb-9b3f-4c2a-a957-f2020870b30a"
      },
      "execution_count": 1,
      "outputs": [
        {
          "output_type": "stream",
          "name": "stdout",
          "text": [
            "Hello, World!\n"
          ]
        }
      ]
    },
    {
      "cell_type": "code",
      "source": [
        "# 2. Write a Python program that displays your name and age\n",
        "\n",
        "name = \"Anshika\"\n",
        "age = 22\n",
        "\n",
        "print(\"Name:\", name)\n",
        "print(\"Age:\", age)"
      ],
      "metadata": {
        "colab": {
          "base_uri": "https://localhost:8080/"
        },
        "id": "u2XdkagrqmDk",
        "outputId": "6df2d2aa-a46f-43e7-f524-27819623ab35"
      },
      "execution_count": 2,
      "outputs": [
        {
          "output_type": "stream",
          "name": "stdout",
          "text": [
            "Name: Anshika\n",
            "Age: 22\n"
          ]
        }
      ]
    },
    {
      "cell_type": "code",
      "source": [
        "# 3. Write code to print all the pre-defined keywords in Python using the keyword library.\n",
        "import keyword\n",
        "print(keyword.kwlist)"
      ],
      "metadata": {
        "colab": {
          "base_uri": "https://localhost:8080/"
        },
        "id": "8I_QgAO1r_8-",
        "outputId": "ee7f1715-7aaf-47e6-a0af-c2f9bbc2871e"
      },
      "execution_count": 3,
      "outputs": [
        {
          "output_type": "stream",
          "name": "stdout",
          "text": [
            "['False', 'None', 'True', 'and', 'as', 'assert', 'async', 'await', 'break', 'class', 'continue', 'def', 'del', 'elif', 'else', 'except', 'finally', 'for', 'from', 'global', 'if', 'import', 'in', 'is', 'lambda', 'nonlocal', 'not', 'or', 'pass', 'raise', 'return', 'try', 'while', 'with', 'yield']\n"
          ]
        }
      ]
    },
    {
      "cell_type": "code",
      "source": [
        "# 4. Write a program that checks if a given word is a Python keyword.\n",
        "import keyword\n",
        "word= input(\"True\")\n",
        "if keyword.iskeyword(word):\n",
        "  print(f\"{word} is a Python keyword.\")\n",
        "else:\n",
        "  print(f\"word is not a python keyword.\")"
      ],
      "metadata": {
        "colab": {
          "base_uri": "https://localhost:8080/"
        },
        "id": "Fg_7kTyhsSxh",
        "outputId": "aafa9d75-9ae3-4a2c-ed64-b1b7c8a08e98"
      },
      "execution_count": 1,
      "outputs": [
        {
          "output_type": "stream",
          "name": "stdout",
          "text": [
            "Truenot\n",
            "not is a Python keyword.\n"
          ]
        }
      ]
    },
    {
      "cell_type": "code",
      "metadata": {
        "colab": {
          "base_uri": "https://localhost:8080/"
        },
        "id": "1a116c55",
        "outputId": "0968f73d-0bf7-492a-ac49-5172ba02165d"
      },
      "source": [
        "# 5. Create a list and tuple and demonstrate the difference in mutability\n",
        "\n",
        "# Create a list\n",
        "my_list = [1, 2, 3, 4, 5]\n",
        "print(\"Original List:\", my_list)\n",
        "\n",
        "# Attempt to change an element in the list\n",
        "my_list[2] = 10\n",
        "print(\"List after modifying an element:\", my_list)\n",
        "\n",
        "# Create a tuple\n",
        "my_tuple = (10, 20, 30, 40, 50)\n",
        "print(\"\\nOriginal Tuple:\", my_tuple)\n",
        "\n",
        "# Attempt to change an element in the tuple (this will raise an error)\n",
        "try:\n",
        "    my_tuple[2] = 100\n",
        "except TypeError as e:\n",
        "    print(\"Error attempting to modify an element in the tuple:\", e)"
      ],
      "execution_count": 6,
      "outputs": [
        {
          "output_type": "stream",
          "name": "stdout",
          "text": [
            "Original List: [1, 2, 3, 4, 5]\n",
            "List after modifying an element: [1, 2, 10, 4, 5]\n",
            "\n",
            "Original Tuple: (10, 20, 30, 40, 50)\n",
            "Error attempting to modify an element in the tuple: 'tuple' object does not support item assignment\n"
          ]
        }
      ]
    },
    {
      "cell_type": "code",
      "metadata": {
        "colab": {
          "base_uri": "https://localhost:8080/"
        },
        "id": "08f49042",
        "outputId": "d6c3642b-8f03-4ffb-fde1-b4227dbd39a3"
      },
      "source": [
        "# 6. Write a function to demonstrate the behavior of mutable and immutable arguments.\n",
        "\n",
        "def demonstrate_arguments(mutable_arg, immutable_arg):\n",
        "  \"\"\"Demonstrates the behavior of mutable and immutable arguments.\"\"\"\n",
        "  print(f\"Inside function - Initial mutable_arg: {mutable_arg}\")\n",
        "  print(f\"Inside function - Initial immutable_arg: {immutable_arg}\")\n",
        "\n",
        "  # Modify the mutable argument (a list)\n",
        "  mutable_arg.append(100)\n",
        "  print(f\"Inside function - Modified mutable_arg: {mutable_arg}\")\n",
        "\n",
        "  # Attempt to modify the immutable argument (an integer) - creates a new local variable\n",
        "  immutable_arg = immutable_arg + 10\n",
        "  print(f\"Inside function - Modified immutable_arg: {immutable_arg}\")\n",
        "\n",
        "# --- Demonstrate with a mutable argument (list) ---\n",
        "my_list = [1, 2, 3]\n",
        "print(f\"Outside function - Before call, my_list: {my_list}\")\n",
        "demonstrate_arguments(my_list, 5)\n",
        "print(f\"Outside function - After call, my_list: {my_list}\")\n",
        "\n",
        "print(\"-\" * 20) # Separator\n",
        "\n",
        "# --- Demonstrate with an immutable argument (integer) ---\n",
        "my_int = 10\n",
        "print(f\"Outside function - Before call, my_int: {my_int}\")\n",
        "demonstrate_arguments([4, 5, 6], my_int) # Pass a new list for the mutable arg example\n",
        "print(f\"Outside function - After call, my_int: {my_int}\")"
      ],
      "execution_count": 8,
      "outputs": [
        {
          "output_type": "stream",
          "name": "stdout",
          "text": [
            "Outside function - Before call, my_list: [1, 2, 3]\n",
            "Inside function - Initial mutable_arg: [1, 2, 3]\n",
            "Inside function - Initial immutable_arg: 5\n",
            "Inside function - Modified mutable_arg: [1, 2, 3, 100]\n",
            "Inside function - Modified immutable_arg: 15\n",
            "Outside function - After call, my_list: [1, 2, 3, 100]\n",
            "--------------------\n",
            "Outside function - Before call, my_int: 10\n",
            "Inside function - Initial mutable_arg: [4, 5, 6]\n",
            "Inside function - Initial immutable_arg: 10\n",
            "Inside function - Modified mutable_arg: [4, 5, 6, 100]\n",
            "Inside function - Modified immutable_arg: 20\n",
            "Outside function - After call, my_int: 10\n"
          ]
        }
      ]
    },
    {
      "cell_type": "code",
      "metadata": {
        "colab": {
          "base_uri": "https://localhost:8080/"
        },
        "id": "3e1af0a8",
        "outputId": "190d815d-591a-40fe-a33d-f7e19c98513d"
      },
      "source": [
        "# 7. Write a program that performs basic arithmetic operations on two user-input numbers.\n",
        "\n",
        "try:\n",
        "    # Getting input from the user\n",
        "    num1 = float(input(\"Enter the first number: \"))\n",
        "    num2 = float(input(\"Enter the second number: \"))\n",
        "\n",
        "    # Performing arithmetic operations\n",
        "    sum_result = num1 + num2\n",
        "    difference = num1 - num2\n",
        "    product = num1 * num2\n",
        "\n",
        "    # Handling division by zero\n",
        "    if num2 != 0:\n",
        "        division = num1 / num2\n",
        "        print(f\"\\nSum: {sum_result}\")\n",
        "        print(f\"Difference: {difference}\")\n",
        "        print(f\"Product: {product}\")\n",
        "        print(f\"Division: {division}\")\n",
        "    else:\n",
        "        print(\"\\nCannot perform division: Division by zero is not allowed.\")\n",
        "        print(f\"Sum: {sum_result}\")\n",
        "        print(f\"Difference: {difference}\")\n",
        "        print(f\"Product: {product}\")\n",
        "\n",
        "except ValueError:\n",
        "    print(\"Invalid input. Please enter valid numbers.\")"
      ],
      "execution_count": 10,
      "outputs": [
        {
          "output_type": "stream",
          "name": "stdout",
          "text": [
            "Enter the first number: 24\n",
            "Enter the second number: 4\n",
            "\n",
            "Sum: 28.0\n",
            "Difference: 20.0\n",
            "Product: 96.0\n",
            "Division: 6.0\n"
          ]
        }
      ]
    },
    {
      "cell_type": "code",
      "source": [
        "# 8. Write a program to demonstrate the use of logical operators.\n",
        "# Demonstrating the 'and' operator\n",
        "has_license= True\n",
        "is_of_legal_age= True\n",
        "if has_license and is_of_legal_age:\n",
        "  print(\"You are eligible to drive.\")\n",
        "else:\n",
        "  print(\"You are not eligible to drive.\")\n",
        "\n",
        "# Demonstrating the 'or' operator\n",
        "has_cash= True\n",
        "has_credit_card= False\n",
        "if has_cash or has_credit_card:\n",
        "  print(\"You can make a purchase.\")\n",
        "else:\n",
        "  print(\"You cannot make a purchase.\")"
      ],
      "metadata": {
        "colab": {
          "base_uri": "https://localhost:8080/"
        },
        "id": "kEPDDElTePbD",
        "outputId": "f15a35bc-7a86-499b-df6a-21e148a3b772"
      },
      "execution_count": 11,
      "outputs": [
        {
          "output_type": "stream",
          "name": "stdout",
          "text": [
            "You are eligible to drive.\n",
            "You can make a purchase.\n"
          ]
        }
      ]
    },
    {
      "cell_type": "code",
      "source": [
        "# 9. Write a Python program to convert user input from string to integer, float, and boolean types.\n",
        "\n",
        "def convert_input_types():\n",
        "    # Getting user input\n",
        "    user_string = input(\"Enter a value: \")\n",
        "\n",
        "    # Converting to Integer\n",
        "    try:\n",
        "        integer_value = int(user_string)\n",
        "        print(f\"Converted to Integer: {integer_value} (Type: {type(integer_value)})\")\n",
        "    except ValueError:\n",
        "        print(f\"Could not convert '{user_string}' to Integer.\")\n",
        "\n",
        "    # Converting to Float\n",
        "    try:\n",
        "        float_value = float(user_string)\n",
        "        print(f\"Converted to Float: {float_value} (Type: {type(float_value)})\")\n",
        "    except ValueError:\n",
        "        print(f\"Could not convert '{user_string}' to Float.\")\n",
        "\n",
        "    # Converting to Boolean\n",
        "    # For boolean conversion, we'll check for specific string values\n",
        "    # Case-insensitive comparison is used for 'true'/'false'\n",
        "    boolean_value = None\n",
        "    if user_string.lower() == 'true':\n",
        "        boolean_value = True\n",
        "    elif user_string.lower() == 'false':\n",
        "        boolean_value = False\n",
        "\n",
        "    if boolean_value is not None:\n",
        "        print(f\"Converted to Boolean: {boolean_value} (Type: {type(boolean_value)})\")\n",
        "    else:\n",
        "        print(f\"Could not convert '{user_string}' to Boolean (expected 'True' or 'False').\")\n",
        "\n",
        "# Runing the conversion function\n",
        "convert_input_types()"
      ],
      "metadata": {
        "colab": {
          "base_uri": "https://localhost:8080/"
        },
        "id": "atE4uGfigt5C",
        "outputId": "05579482-c93e-4e7e-da71-7f8493ee027d"
      },
      "execution_count": 12,
      "outputs": [
        {
          "output_type": "stream",
          "name": "stdout",
          "text": [
            "Enter a value: 2.2\n",
            "Could not convert '2.2' to Integer.\n",
            "Converted to Float: 2.2 (Type: <class 'float'>)\n",
            "Could not convert '2.2' to Boolean (expected 'True' or 'False').\n"
          ]
        }
      ]
    },
    {
      "cell_type": "code",
      "source": [
        "from typing import List\n",
        "# 10.  Write code to demonstrate type casting with list elements.\n",
        "my_list = [1, '2', 3.0, '4.5', 5]\n",
        "\n",
        "# Convert all elements to integers (where possible)\n",
        "int_list = []\n",
        "for item in my_list:\n",
        "    try:\n",
        "        # Attempt to convert to float first, then to int to handle strings like '4.5'\n",
        "        # Only convert to int if the float conversion results in an integer value\n",
        "        float_item = float(item)\n",
        "        if float_item.is_integer():\n",
        "            int_list.append(int(float_item))\n",
        "        else:\n",
        "            # Optionally, handle cases where float conversion is possible but not int\n",
        "            print(f\"Skipping conversion of '{item}' to integer (not an integer value).\")\n",
        "    except (ValueError, TypeError):\n",
        "        # Handle cases where conversion to float (and thus int) is not possible\n",
        "        print(f\"Skipping conversion of '{item}' to integer (cannot convert).\")\n",
        "\n",
        "print(f\"Original list: {my_list}\")\n",
        "print(f\"List with elements cast to integers (where possible): {int_list}\")\n",
        "\n",
        "# Convert all elements to strings\n",
        "str_list = [str(x) for x in my_list]\n",
        "print(f\"List with elements cast to strings: {str_list}\")\n",
        "\n",
        "# Convert all elements to floats (where possible)\n",
        "float_list = []\n",
        "for item in my_list:\n",
        "    try:\n",
        "        float_list.append(float(item))\n",
        "    except (ValueError, TypeError):\n",
        "        # Handle cases where conversion to float is not possible\n",
        "        print(f\"Skipping conversion of '{item}' to float (cannot convert).\")\n",
        "\n",
        "print(f\"List with elements cast to floats (where possible): {float_list}\")"
      ],
      "metadata": {
        "colab": {
          "base_uri": "https://localhost:8080/"
        },
        "id": "OVVy_pv2hyuq",
        "outputId": "463481dd-8e0e-402d-a1ce-e60298d524d4"
      },
      "execution_count": 15,
      "outputs": [
        {
          "output_type": "stream",
          "name": "stdout",
          "text": [
            "Skipping conversion of '4.5' to integer (not an integer value).\n",
            "Original list: [1, '2', 3.0, '4.5', 5]\n",
            "List with elements cast to integers (where possible): [1, 2, 3, 5]\n",
            "List with elements cast to strings: ['1', '2', '3.0', '4.5', '5']\n",
            "List with elements cast to floats (where possible): [1.0, 2.0, 3.0, 4.5, 5.0]\n"
          ]
        }
      ]
    },
    {
      "cell_type": "code",
      "source": [
        "# 11. Write a program that checks if a number is positive, negative, or zero.\n",
        "num = float(input(\"Enter a number: \"))\n",
        "if num > 0:\n",
        "    print(\"The number is positive.\")\n",
        "elif num < 0:\n",
        "    print(\"The number is negative.\")\n",
        "else:\n",
        "    print(\"The number is zero.\")"
      ],
      "metadata": {
        "colab": {
          "base_uri": "https://localhost:8080/"
        },
        "id": "Ewd85bzPjJzS",
        "outputId": "600149b2-e378-429d-8d67-759ec50a5867"
      },
      "execution_count": 16,
      "outputs": [
        {
          "output_type": "stream",
          "name": "stdout",
          "text": [
            "Enter a number: -8\n",
            "The number is negative.\n"
          ]
        }
      ]
    },
    {
      "cell_type": "code",
      "source": [
        "# 12. Write a for loop to print numbers from 1 to 10.\n",
        "\n",
        "for i in range(1, 11):\n",
        "    print(i)"
      ],
      "metadata": {
        "colab": {
          "base_uri": "https://localhost:8080/"
        },
        "id": "Uvxh7CF0jWtY",
        "outputId": "011b37ab-efeb-4b98-dedf-133dd8020eb0"
      },
      "execution_count": 17,
      "outputs": [
        {
          "output_type": "stream",
          "name": "stdout",
          "text": [
            "1\n",
            "2\n",
            "3\n",
            "4\n",
            "5\n",
            "6\n",
            "7\n",
            "8\n",
            "9\n",
            "10\n"
          ]
        }
      ]
    },
    {
      "cell_type": "code",
      "source": [
        "# 13. Write a Python program to find the sum of all even numbers between 1 and 50.\n",
        "sum_even = 0\n",
        "for num in range(2, 51, 2):\n",
        "    sum_even += num\n",
        "print(f\"The sum of even numbers from 1 to 50 is: {sum_even}\")"
      ],
      "metadata": {
        "colab": {
          "base_uri": "https://localhost:8080/"
        },
        "id": "QXjO4XBijhna",
        "outputId": "45787add-341a-4c91-8557-ee6e70c6d215"
      },
      "execution_count": 18,
      "outputs": [
        {
          "output_type": "stream",
          "name": "stdout",
          "text": [
            "The sum of even numbers from 1 to 50 is: 650\n"
          ]
        }
      ]
    },
    {
      "cell_type": "code",
      "source": [
        "# 14. Write a program to reverse a string using a while loop.\n",
        "\n",
        "def reverse_string_while(input_string):\n",
        "  \"\"\"Reverses a string using a while loop.\"\"\"\n",
        "  reversed_string = \"\"\n",
        "  index = len(input_string) - 1\n",
        "  while index >= 0:\n",
        "    reversed_string += input_string[index]\n",
        "    index -= 1\n",
        "  return reversed_string\n",
        "\n",
        "# Get input from the user\n",
        "my_string = input(\"Enter a string to reverse: \")\n",
        "\n",
        "# Reverse the string and print the result\n",
        "reversed_result = reverse_string_while(my_string)\n",
        "print(f\"Original string: {my_string}\")\n",
        "print(f\"Reversed string: {reversed_result}\")"
      ],
      "metadata": {
        "colab": {
          "base_uri": "https://localhost:8080/"
        },
        "id": "jPh-7BmtjuYk",
        "outputId": "912e83b6-0556-42d3-8e43-0fa2c6e1bf31"
      },
      "execution_count": 19,
      "outputs": [
        {
          "output_type": "stream",
          "name": "stdout",
          "text": [
            "Enter a string to reverse: Hello\n",
            "Original string: Hello\n",
            "Reversed string: olleH\n"
          ]
        }
      ]
    },
    {
      "cell_type": "code",
      "source": [
        "# 15. Write a Python program to calculate the factorial of a number provided by the user using a while loop.\n",
        "\n",
        "def calculate_factorial_while(number):\n",
        "  \"\"\"Calculates the factorial of a non-negative integer using a while loop.\"\"\"\n",
        "  if number < 0:\n",
        "    return \"Factorial is not defined for negative numbers\"\n",
        "  elif number == 0:\n",
        "    return 1\n",
        "  else:\n",
        "    factorial = 1\n",
        "    current_number = number\n",
        "    while current_number > 0:\n",
        "      factorial *= current_number\n",
        "      current_number -= 1\n",
        "    return factorial\n",
        "\n",
        "# Get input from the user\n",
        "try:\n",
        "  num = int(input(\"Enter a non-negative integer to calculate its factorial: \"))\n",
        "  result = calculate_factorial_while(num)\n",
        "  print(f\"The factorial of {num} is: {result}\")\n",
        "except ValueError:\n",
        "  print(\"Invalid input. Please enter a non-negative integer.\")"
      ],
      "metadata": {
        "colab": {
          "base_uri": "https://localhost:8080/"
        },
        "id": "-Mh1HFfBka5p",
        "outputId": "0c03b14b-3468-4136-9b09-5fa7a315d19e"
      },
      "execution_count": 20,
      "outputs": [
        {
          "output_type": "stream",
          "name": "stdout",
          "text": [
            "Enter a non-negative integer to calculate its factorial: 64\n",
            "The factorial of 64 is: 126886932185884164103433389335161480802865516174545192198801894375214704230400000000000000\n"
          ]
        }
      ]
    }
  ]
}